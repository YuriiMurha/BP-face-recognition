{
 "cells": [
  {
   "cell_type": "markdown",
   "metadata": {},
   "source": [
    "# 1 Collect Images Using OpenCV"
   ]
  },
  {
   "cell_type": "code",
   "execution_count": null,
   "metadata": {},
   "outputs": [],
   "source": [
    "import os\n",
    "import time\n",
    "import uuid\n",
    "import cv2"
   ]
  },
  {
   "cell_type": "code",
   "execution_count": null,
   "metadata": {},
   "outputs": [],
   "source": [
    "IMAGES_PATH = os.path.join('data', 'datasets', 'images')\n",
    "number_images = 30"
   ]
  },
  {
   "cell_type": "code",
   "execution_count": null,
   "metadata": {},
   "outputs": [],
   "source": [
    "cap = cv2.VideoCapture(\"rtsp://147.232.24.197/live.sdp\")\n",
    "# cap = cv2.VideoCapture(0)\n",
    "imgnum = 0\n",
    "while (imgnum == number_images):\n",
    "    i = i + 1\n",
    "    ret, frame = cap.read()\n",
    "    if imgnum % 12 == 0:\n",
    "        print('Collecting image {}'.format(imgnum))\n",
    "        imgnum = imgnum + 1\n",
    "        imgname = os.path.join(IMAGES_PATH,f'{str(uuid.uuid1())}.jpg')\n",
    "        cv2.imwrite(imgname, frame)\n",
    "        cv2.imshow('frame', frame)\n",
    "\n",
    "    if cv2.waitKey(1) & 0xFF == ord('q'):\n",
    "        break\n",
    "cap.release()\n",
    "cv2.destroyAllWindows()"
   ]
  },
  {
   "cell_type": "markdown",
   "metadata": {},
   "source": [
    "# 2 Annotate Images with LabelMe"
   ]
  },
  {
   "cell_type": "markdown",
   "metadata": {
    "vscode": {
     "languageId": "yaml"
    }
   },
   "source": [
    "## Instructions for using LabelMe to annotate faces\n",
    "1. Open terminal/command prompt\n",
    "2. Install `labelme` if not already installed:\n",
    "    ```shell\n",
    "    pip install labelme\n",
    "    ```\n",
    "3. Launch labelme:\n",
    "    ```shell\n",
    "    labelme\n",
    "    ```\n",
    "\n",
    "4. In LabelMe GUI:\n",
    "    - Click 'Open Dir' and select the image folder\n",
    "    - Create a polygon around each face by clicking points\n",
    "    - Label each polygon as 'face' or name\n",
    "    - Press 'Save' when done with each image\n",
    "    - Annotations will be saved as JSON files\n",
    "\n",
    "5. The annotation files will be stored in the same directory as the images\n"
   ]
  }
 ],
 "metadata": {
  "kernelspec": {
   "display_name": "tf39",
   "language": "python",
   "name": "python3"
  },
  "language_info": {
   "codemirror_mode": {
    "name": "ipython",
    "version": 3
   },
   "file_extension": ".py",
   "mimetype": "text/x-python",
   "name": "python",
   "nbconvert_exporter": "python",
   "pygments_lexer": "ipython3",
   "version": "3.9.18"
  }
 },
 "nbformat": 4,
 "nbformat_minor": 2
}
